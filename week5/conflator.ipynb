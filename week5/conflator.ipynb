{
 "cells": [
  {
   "cell_type": "code",
   "execution_count": null,
   "id": "c6ea1b69-7a20-40e3-9876-76c58476fe3b",
   "metadata": {},
   "outputs": [],
   "source": [
    "\n",
    "import requests\n",
    "import json\n",
    "from dotenv import load_dotenv\n",
    "\n",
    "\n",
    "load_dotenv(override=True)\n",
    "\n",
    "\n",
    "\n",
    "# Confluence API URL\n",
    "url = \"https://your_url.atlassian.net/wiki/rest/api/content?limit=2\"\n",
    "\n",
    "# Authentication credentials\n",
    "username = \"gcrabtree\"\n",
    "confluence_api_token = os.getenv('CONF_TOKEN')\n",
    "\n",
    "# Send GET request with Basic Auth\n",
    "response = requests.get(url, auth=(username, confluence_api_token))\n",
    "\n",
    "# Print response details for debugging\n",
    "print(f\"Status Code: {response.status_code}\")\n",
    "print(\"Raw Response Text:\")\n",
    "print(response.text)  # Print raw response to inspect if it's empty or not JSON\n",
    "\n",
    "# Check if request was successful\n",
    "if response.status_code == 200:\n",
    "    try:\n",
    "        # Try parsing JSON response\n",
    "        json_data = response.json()\n",
    "        print(json.dumps(json_data, indent=4))\n",
    "    except requests.exceptions.JSONDecodeError:\n",
    "        print(\"Error: Response is not in JSON format.\")\n",
    "else:\n",
    "    print(f\"Error: {response.status_code} - {response.text}\")"
   ]
  },
  {
   "cell_type": "code",
   "execution_count": null,
   "id": "0425fdca-b2d3-4897-a9e4-be7cfd96da6f",
   "metadata": {},
   "outputs": [],
   "source": []
  }
 ],
 "metadata": {
  "kernelspec": {
   "display_name": "Python 3 (ipykernel)",
   "language": "python",
   "name": "python3"
  },
  "language_info": {
   "codemirror_mode": {
    "name": "ipython",
    "version": 3
   },
   "file_extension": ".py",
   "mimetype": "text/x-python",
   "name": "python",
   "nbconvert_exporter": "python",
   "pygments_lexer": "ipython3",
   "version": "3.11.11"
  }
 },
 "nbformat": 4,
 "nbformat_minor": 5
}
